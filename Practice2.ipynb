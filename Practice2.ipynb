{
 "cells": [
  {
   "cell_type": "markdown",
   "metadata": {},
   "source": [
    "# 0. Libraries"
   ]
  },
  {
   "cell_type": "code",
   "execution_count": null,
   "metadata": {},
   "outputs": [],
   "source": [
    "pip install skrebate\n",
    "pip install imbalanced-learn"
   ]
  },
  {
   "cell_type": "code",
   "execution_count": 1,
   "metadata": {
    "ExecuteTime": {
     "end_time": "2020-12-26T09:33:09.699035Z",
     "start_time": "2020-12-26T09:33:04.825738Z"
    }
   },
   "outputs": [
    {
     "name": "stderr",
     "output_type": "stream",
     "text": [
      "Using TensorFlow backend.\n"
     ]
    }
   ],
   "source": [
    "import pandas as pd\n",
    "import matplotlib.pyplot as plt\n",
    "from sklearn.compose import ColumnTransformer\n",
    "from sklearn.preprocessing import MinMaxScaler, StandardScaler\n",
    "from skrebate import ReliefF\n",
    "\n",
    "from sklearn.feature_selection import GenericUnivariateSelect, SelectKBest, mutual_info_classif, f_classif, RFE, RFECV\n",
    "from sklearn.model_selection import StratifiedKFold, cross_validate, cross_val_predict, cross_val_score, validation_curve, GridSearchCV, StratifiedKFold, ShuffleSplit\n",
    "from sklearn.metrics import accuracy_score, auc, confusion_matrix, f1_score, precision_score, recall_score, roc_curve, plot_roc_curve, roc_auc_score\n",
    "from imblearn.combine import SMOTEENN\n",
    "\n",
    "from sklearn.svm import SVC\n",
    "from sklearn.naive_bayes import GaussianNB\n",
    "from sklearn.tree import DecisionTreeClassifier\n",
    "from sklearn.ensemble import AdaBoostClassifier, RandomForestClassifier"
   ]
  },
  {
   "cell_type": "markdown",
   "metadata": {},
   "source": [
    "# 1. Descriptive analysis"
   ]
  },
  {
   "cell_type": "code",
   "execution_count": 2,
   "metadata": {
    "ExecuteTime": {
     "end_time": "2020-12-26T09:33:09.757049Z",
     "start_time": "2020-12-26T09:33:09.708038Z"
    }
   },
   "outputs": [
    {
     "data": {
      "text/html": [
       "<div>\n",
       "<style scoped>\n",
       "    .dataframe tbody tr th:only-of-type {\n",
       "        vertical-align: middle;\n",
       "    }\n",
       "\n",
       "    .dataframe tbody tr th {\n",
       "        vertical-align: top;\n",
       "    }\n",
       "\n",
       "    .dataframe thead th {\n",
       "        text-align: right;\n",
       "    }\n",
       "</style>\n",
       "<table border=\"1\" class=\"dataframe\">\n",
       "  <thead>\n",
       "    <tr style=\"text-align: right;\">\n",
       "      <th></th>\n",
       "      <th>quality</th>\n",
       "      <th>bits</th>\n",
       "      <th>intra_parts</th>\n",
       "      <th>skip_parts</th>\n",
       "      <th>inter_16x16_parts</th>\n",
       "      <th>inter_4x4_parts</th>\n",
       "      <th>inter_other_parts</th>\n",
       "      <th>non_zero_pixels</th>\n",
       "      <th>frame_width</th>\n",
       "      <th>frame_height</th>\n",
       "      <th>...</th>\n",
       "      <th>sobel_h</th>\n",
       "      <th>sobel_v</th>\n",
       "      <th>variance</th>\n",
       "      <th>block_movement_h</th>\n",
       "      <th>block_movement_v</th>\n",
       "      <th>var_movement_h</th>\n",
       "      <th>var_movement_v</th>\n",
       "      <th>cost_1</th>\n",
       "      <th>cost_2</th>\n",
       "      <th>relevant</th>\n",
       "    </tr>\n",
       "  </thead>\n",
       "  <tbody>\n",
       "    <tr>\n",
       "      <th>0</th>\n",
       "      <td>22</td>\n",
       "      <td>2143</td>\n",
       "      <td>0</td>\n",
       "      <td>0</td>\n",
       "      <td>1</td>\n",
       "      <td>3</td>\n",
       "      <td>21</td>\n",
       "      <td>404</td>\n",
       "      <td>416</td>\n",
       "      <td>240</td>\n",
       "      <td>...</td>\n",
       "      <td>17.397461</td>\n",
       "      <td>17.397461</td>\n",
       "      <td>87.584335</td>\n",
       "      <td>2.820312</td>\n",
       "      <td>2.539062</td>\n",
       "      <td>10.772400</td>\n",
       "      <td>8.576599</td>\n",
       "      <td>0.0</td>\n",
       "      <td>0.0</td>\n",
       "      <td>1.0</td>\n",
       "    </tr>\n",
       "    <tr>\n",
       "      <th>1</th>\n",
       "      <td>22</td>\n",
       "      <td>1735</td>\n",
       "      <td>0</td>\n",
       "      <td>2</td>\n",
       "      <td>0</td>\n",
       "      <td>3</td>\n",
       "      <td>8</td>\n",
       "      <td>381</td>\n",
       "      <td>416</td>\n",
       "      <td>240</td>\n",
       "      <td>...</td>\n",
       "      <td>14.426758</td>\n",
       "      <td>14.233398</td>\n",
       "      <td>48.025330</td>\n",
       "      <td>1.843750</td>\n",
       "      <td>1.921875</td>\n",
       "      <td>6.163086</td>\n",
       "      <td>6.665771</td>\n",
       "      <td>8816.0</td>\n",
       "      <td>8801.0</td>\n",
       "      <td>1.0</td>\n",
       "    </tr>\n",
       "    <tr>\n",
       "      <th>2</th>\n",
       "      <td>22</td>\n",
       "      <td>1971</td>\n",
       "      <td>0</td>\n",
       "      <td>0</td>\n",
       "      <td>0</td>\n",
       "      <td>0</td>\n",
       "      <td>8</td>\n",
       "      <td>460</td>\n",
       "      <td>416</td>\n",
       "      <td>240</td>\n",
       "      <td>...</td>\n",
       "      <td>15.203125</td>\n",
       "      <td>13.953125</td>\n",
       "      <td>56.613480</td>\n",
       "      <td>3.000000</td>\n",
       "      <td>4.937500</td>\n",
       "      <td>1.625000</td>\n",
       "      <td>3.683594</td>\n",
       "      <td>5104.0</td>\n",
       "      <td>5193.0</td>\n",
       "      <td>1.0</td>\n",
       "    </tr>\n",
       "    <tr>\n",
       "      <th>3</th>\n",
       "      <td>22</td>\n",
       "      <td>2473</td>\n",
       "      <td>0</td>\n",
       "      <td>0</td>\n",
       "      <td>0</td>\n",
       "      <td>18</td>\n",
       "      <td>20</td>\n",
       "      <td>421</td>\n",
       "      <td>416</td>\n",
       "      <td>240</td>\n",
       "      <td>...</td>\n",
       "      <td>21.725586</td>\n",
       "      <td>29.165039</td>\n",
       "      <td>283.079285</td>\n",
       "      <td>2.078125</td>\n",
       "      <td>2.500000</td>\n",
       "      <td>25.806396</td>\n",
       "      <td>34.656250</td>\n",
       "      <td>21531.0</td>\n",
       "      <td>19802.0</td>\n",
       "      <td>1.0</td>\n",
       "    </tr>\n",
       "    <tr>\n",
       "      <th>4</th>\n",
       "      <td>22</td>\n",
       "      <td>1093</td>\n",
       "      <td>0</td>\n",
       "      <td>0</td>\n",
       "      <td>1</td>\n",
       "      <td>3</td>\n",
       "      <td>8</td>\n",
       "      <td>167</td>\n",
       "      <td>416</td>\n",
       "      <td>240</td>\n",
       "      <td>...</td>\n",
       "      <td>11.929688</td>\n",
       "      <td>14.353516</td>\n",
       "      <td>175.123245</td>\n",
       "      <td>3.070312</td>\n",
       "      <td>4.523438</td>\n",
       "      <td>22.252869</td>\n",
       "      <td>14.780701</td>\n",
       "      <td>15073.0</td>\n",
       "      <td>14549.0</td>\n",
       "      <td>1.0</td>\n",
       "    </tr>\n",
       "  </tbody>\n",
       "</table>\n",
       "<p>5 rows × 27 columns</p>\n",
       "</div>"
      ],
      "text/plain": [
       "   quality  bits  intra_parts  skip_parts  inter_16x16_parts  inter_4x4_parts  \\\n",
       "0       22  2143            0           0                  1                3   \n",
       "1       22  1735            0           2                  0                3   \n",
       "2       22  1971            0           0                  0                0   \n",
       "3       22  2473            0           0                  0               18   \n",
       "4       22  1093            0           0                  1                3   \n",
       "\n",
       "   inter_other_parts  non_zero_pixels  frame_width  frame_height  ...  \\\n",
       "0                 21              404          416           240  ...   \n",
       "1                  8              381          416           240  ...   \n",
       "2                  8              460          416           240  ...   \n",
       "3                 20              421          416           240  ...   \n",
       "4                  8              167          416           240  ...   \n",
       "\n",
       "     sobel_h    sobel_v    variance  block_movement_h  block_movement_v  \\\n",
       "0  17.397461  17.397461   87.584335          2.820312          2.539062   \n",
       "1  14.426758  14.233398   48.025330          1.843750          1.921875   \n",
       "2  15.203125  13.953125   56.613480          3.000000          4.937500   \n",
       "3  21.725586  29.165039  283.079285          2.078125          2.500000   \n",
       "4  11.929688  14.353516  175.123245          3.070312          4.523438   \n",
       "\n",
       "   var_movement_h  var_movement_v   cost_1   cost_2  relevant  \n",
       "0       10.772400        8.576599      0.0      0.0       1.0  \n",
       "1        6.163086        6.665771   8816.0   8801.0       1.0  \n",
       "2        1.625000        3.683594   5104.0   5193.0       1.0  \n",
       "3       25.806396       34.656250  21531.0  19802.0       1.0  \n",
       "4       22.252869       14.780701  15073.0  14549.0       1.0  \n",
       "\n",
       "[5 rows x 27 columns]"
      ]
     },
     "execution_count": 2,
     "metadata": {},
     "output_type": "execute_result"
    }
   ],
   "source": [
    "df = pd.read_csv('data.csv')\n",
    "df.head()"
   ]
  },
  {
   "cell_type": "code",
   "execution_count": null,
   "metadata": {
    "ExecuteTime": {
     "end_time": "2020-12-24T11:16:20.341222Z",
     "start_time": "2020-12-24T11:12:02.339Z"
    }
   },
   "outputs": [],
   "source": [
    "df.shape"
   ]
  },
  {
   "cell_type": "code",
   "execution_count": null,
   "metadata": {
    "ExecuteTime": {
     "end_time": "2020-12-24T11:16:20.342222Z",
     "start_time": "2020-12-24T11:12:02.472Z"
    }
   },
   "outputs": [],
   "source": [
    "df.info()"
   ]
  },
  {
   "cell_type": "code",
   "execution_count": null,
   "metadata": {
    "ExecuteTime": {
     "end_time": "2020-12-24T11:16:20.344222Z",
     "start_time": "2020-12-24T11:12:02.603Z"
    }
   },
   "outputs": [],
   "source": [
    "df.nunique()"
   ]
  },
  {
   "cell_type": "code",
   "execution_count": null,
   "metadata": {
    "ExecuteTime": {
     "end_time": "2020-12-24T11:16:20.345222Z",
     "start_time": "2020-12-24T11:12:02.710Z"
    }
   },
   "outputs": [],
   "source": [
    "df.describe()"
   ]
  },
  {
   "cell_type": "markdown",
   "metadata": {},
   "source": [
    "# 2. Data exploration"
   ]
  },
  {
   "cell_type": "code",
   "execution_count": 12,
   "metadata": {
    "ExecuteTime": {
     "end_time": "2020-12-24T11:34:51.777297Z",
     "start_time": "2020-12-24T11:34:49.034663Z"
    }
   },
   "outputs": [
    {
     "data": {
      "text/plain": [
       "array([[<matplotlib.axes._subplots.AxesSubplot object at 0x000001E945750308>,\n",
       "        <matplotlib.axes._subplots.AxesSubplot object at 0x000001E945B6E948>,\n",
       "        <matplotlib.axes._subplots.AxesSubplot object at 0x000001E945BA8548>,\n",
       "        <matplotlib.axes._subplots.AxesSubplot object at 0x000001E945BDE2C8>,\n",
       "        <matplotlib.axes._subplots.AxesSubplot object at 0x000001E945C13048>],\n",
       "       [<matplotlib.axes._subplots.AxesSubplot object at 0x000001E945C42D88>,\n",
       "        <matplotlib.axes._subplots.AxesSubplot object at 0x000001E945C7CB08>,\n",
       "        <matplotlib.axes._subplots.AxesSubplot object at 0x000001E945CB1888>,\n",
       "        <matplotlib.axes._subplots.AxesSubplot object at 0x000001E945CB8708>,\n",
       "        <matplotlib.axes._subplots.AxesSubplot object at 0x000001E945CEE688>],\n",
       "       [<matplotlib.axes._subplots.AxesSubplot object at 0x000001E945D54548>,\n",
       "        <matplotlib.axes._subplots.AxesSubplot object at 0x000001E945D91E88>,\n",
       "        <matplotlib.axes._subplots.AxesSubplot object at 0x000001E953B44788>,\n",
       "        <matplotlib.axes._subplots.AxesSubplot object at 0x000001E953B7E848>,\n",
       "        <matplotlib.axes._subplots.AxesSubplot object at 0x000001E953BB3988>],\n",
       "       [<matplotlib.axes._subplots.AxesSubplot object at 0x000001E953BEEA88>,\n",
       "        <matplotlib.axes._subplots.AxesSubplot object at 0x000001E953C27B88>,\n",
       "        <matplotlib.axes._subplots.AxesSubplot object at 0x000001E953C5FCC8>,\n",
       "        <matplotlib.axes._subplots.AxesSubplot object at 0x000001E953C97D48>,\n",
       "        <matplotlib.axes._subplots.AxesSubplot object at 0x000001E953CCEE48>],\n",
       "       [<matplotlib.axes._subplots.AxesSubplot object at 0x000001E953D07F88>,\n",
       "        <matplotlib.axes._subplots.AxesSubplot object at 0x000001E953D420C8>,\n",
       "        <matplotlib.axes._subplots.AxesSubplot object at 0x000001E953D7A1C8>,\n",
       "        <matplotlib.axes._subplots.AxesSubplot object at 0x000001E953DB22C8>,\n",
       "        <matplotlib.axes._subplots.AxesSubplot object at 0x000001E953DEC3C8>],\n",
       "       [<matplotlib.axes._subplots.AxesSubplot object at 0x000001E953E234C8>,\n",
       "        <matplotlib.axes._subplots.AxesSubplot object at 0x000001E953E5C608>,\n",
       "        <matplotlib.axes._subplots.AxesSubplot object at 0x000001E953E94748>,\n",
       "        <matplotlib.axes._subplots.AxesSubplot object at 0x000001E953ECB888>,\n",
       "        <matplotlib.axes._subplots.AxesSubplot object at 0x000001E953F03A48>]],\n",
       "      dtype=object)"
      ]
     },
     "execution_count": 12,
     "metadata": {},
     "output_type": "execute_result"
    },
    {
     "data": {
      "image/png": "[encoded data removed]",
      "text/plain": [
       "<Figure size 3600x2160 with 30 Axes>"
      ]
     },
     "metadata": {
      "needs_background": "light"
     },
     "output_type": "display_data"
    }
   ],
   "source": [
    "df.hist(figsize=(50, 30))"
   ]
  },
  {
   "cell_type": "code",
   "execution_count": null,
   "metadata": {},
   "outputs": [],
   "source": []
  },
  {
   "cell_type": "markdown",
   "metadata": {},
   "source": [
    "# 3. Data preparation"
   ]
  },
  {
   "cell_type": "markdown",
   "metadata": {},
   "source": [
    "Rows with null values are dropped"
   ]
  },
  {
   "cell_type": "code",
   "execution_count": 3,
   "metadata": {
    "ExecuteTime": {
     "end_time": "2020-12-26T09:33:09.982249Z",
     "start_time": "2020-12-26T09:33:09.975240Z"
    }
   },
   "outputs": [],
   "source": [
    "df.dropna(inplace=True)"
   ]
  },
  {
   "cell_type": "markdown",
   "metadata": {},
   "source": [
    "Training variables are assigned"
   ]
  },
  {
   "cell_type": "code",
   "execution_count": 4,
   "metadata": {
    "ExecuteTime": {
     "end_time": "2020-12-26T09:33:10.312106Z",
     "start_time": "2020-12-26T09:33:10.308104Z"
    }
   },
   "outputs": [],
   "source": [
    "X = df.iloc[:, :26]\n",
    "y = df.iloc[:, 26:]"
   ]
  },
  {
   "cell_type": "markdown",
   "metadata": {},
   "source": [
    "The response variable is imbalanced"
   ]
  },
  {
   "cell_type": "code",
   "execution_count": 5,
   "metadata": {
    "ExecuteTime": {
     "end_time": "2020-12-26T09:33:10.869133Z",
     "start_time": "2020-12-26T09:33:10.864133Z"
    }
   },
   "outputs": [
    {
     "data": {
      "text/plain": [
       "1.0    13126\n",
       "0.0     2841\n",
       "Name: relevant, dtype: int64"
      ]
     },
     "execution_count": 5,
     "metadata": {},
     "output_type": "execute_result"
    }
   ],
   "source": [
    "df.relevant.value_counts()"
   ]
  },
  {
   "cell_type": "markdown",
   "metadata": {},
   "source": [
    "SMOTE is applied for oversampling and Edited Nearest Neighbours for undersampling"
   ]
  },
  {
   "cell_type": "code",
   "execution_count": 6,
   "metadata": {
    "ExecuteTime": {
     "end_time": "2020-12-26T09:36:14.042508Z",
     "start_time": "2020-12-26T09:36:13.517391Z"
    }
   },
   "outputs": [
    {
     "data": {
      "text/plain": [
       "1.0    7298\n",
       "0.0    5594\n",
       "Name: relevant, dtype: int64"
      ]
     },
     "execution_count": 6,
     "metadata": {},
     "output_type": "execute_result"
    }
   ],
   "source": [
    "X_resample, y_resample = SMOTEENN(sampling_strategy=0.75, random_state=0).fit_resample(X, y)\n",
    "y_resample.relevant.value_counts()"
   ]
  },
  {
   "cell_type": "markdown",
   "metadata": {},
   "source": [
    "Features are scaled by their maximum and minimum in the range of [0,1]"
   ]
  },
  {
   "cell_type": "code",
   "execution_count": 7,
   "metadata": {
    "ExecuteTime": {
     "end_time": "2020-12-26T09:36:16.800228Z",
     "start_time": "2020-12-26T09:36:16.787226Z"
    }
   },
   "outputs": [],
   "source": [
    "X = pd.DataFrame(data=MinMaxScaler(feature_range=(0, 1)).fit_transform(X), columns=X.columns)\n",
    "X_resample = pd.DataFrame(MinMaxScaler(feature_range=(0, 1)).fit_transform(X_resample), columns=X_resample.columns)"
   ]
  },
  {
   "cell_type": "markdown",
   "metadata": {},
   "source": [
    "## 3.1 Feature subset selection"
   ]
  },
  {
   "cell_type": "markdown",
   "metadata": {},
   "source": [
    "### 3.1.1 Univariate filter (Mutual Information)"
   ]
  },
  {
   "cell_type": "code",
   "execution_count": 13,
   "metadata": {
    "ExecuteTime": {
     "end_time": "2020-12-25T10:30:42.021602Z",
     "start_time": "2020-12-25T10:30:11.258685Z"
    }
   },
   "outputs": [
    {
     "name": "stdout",
     "output_type": "stream",
     "text": [
      "Univariate Filter (Mutual Information)\n",
      "                     Scores\n",
      "bits               0.061416\n",
      "movement_level     0.057465\n",
      "non_zero_pixels    0.055617\n",
      "sub_mean_4         0.037794\n",
      "sobel_h            0.036682\n",
      "mean               0.035213\n",
      "quality            0.034845\n",
      "sobel_v            0.033693\n",
      "variance           0.029262\n",
      "sub_mean_3         0.028608\n",
      "sub_mean_1         0.027997\n",
      "skip_parts         0.027510\n",
      "inter_other_parts  0.025431\n",
      "var_sub_blocks     0.025098\n",
      "sub_mean_2         0.025079\n",
      "var_movement_h     0.022162\n",
      "block_movement_h   0.019111\n",
      "block_movement_v   0.019048\n",
      "frame_height       0.018865\n",
      "frame_width        0.018336\n",
      "var_movement_v     0.017221\n",
      "cost_1             0.012394\n",
      "inter_4x4_parts    0.011557\n",
      "intra_parts        0.010362\n",
      "cost_2             0.007017\n",
      "inter_16x16_parts  0.001102\n"
     ]
    }
   ],
   "source": [
    "#Mutual Information\n",
    "scores = np.zeros(26)\n",
    "for i in range(0,10):\n",
    "    test = SelectKBest(score_func=mutual_info_classif, k=10)\n",
    "    fit = test.fit(X, np.ravel(y))\n",
    "    scores = [(x + y) for x, y in zip(scores, fit.scores_)]\n",
    "\n",
    "scores = [x/10 for x in scores]\n",
    "# Summarize scores\n",
    "scores = pd.DataFrame(data=scores,index=X.columns, columns=['Scores'])\n",
    "scores = scores.sort_values(by='Scores', ascending=False)\n",
    "print(\"Univariate Filter (Mutual Information)\")\n",
    "print(scores)"
   ]
  },
  {
   "cell_type": "markdown",
   "metadata": {},
   "source": [
    "### 3.1.2 Multivariate filter (Relief)"
   ]
  },
  {
   "cell_type": "code",
   "execution_count": 14,
   "metadata": {
    "ExecuteTime": {
     "end_time": "2020-12-25T10:36:42.340734Z",
     "start_time": "2020-12-25T10:30:42.056609Z"
    }
   },
   "outputs": [
    {
     "name": "stdout",
     "output_type": "stream",
     "text": [
      "Multivariate Filter (Relief)\n",
      "                     Scores\n",
      "quality            0.188603\n",
      "inter_16x16_parts  0.111704\n",
      "bits               0.110346\n",
      "non_zero_pixels    0.102117\n",
      "skip_parts         0.098555\n",
      "sobel_h            0.069612\n",
      "sobel_v            0.069012\n",
      "inter_other_parts  0.061656\n",
      "cost_2             0.060023\n",
      "cost_1             0.056129\n",
      "frame_height       0.053389\n",
      "frame_width        0.053389\n",
      "sub_mean_4         0.045511\n",
      "intra_parts        0.039161\n",
      "inter_4x4_parts    0.036110\n",
      "sub_mean_3         0.035667\n",
      "sub_mean_1         0.033787\n",
      "sub_mean_2         0.032270\n",
      "variance           0.026546\n",
      "block_movement_v   0.020349\n",
      "block_movement_h   0.019023\n",
      "movement_level     0.017877\n",
      "var_sub_blocks     0.012761\n",
      "var_movement_h     0.011807\n",
      "var_movement_v     0.007075\n",
      "mean               0.000206\n"
     ]
    }
   ],
   "source": [
    "#Relief\n",
    "fs = ReliefF()\n",
    "fs.fit(np.array(X), np.concatenate(np.array(y)))\n",
    "    \n",
    "scores = pd.DataFrame(data=fs.feature_importances_,index=X.columns, columns=['Scores'])\n",
    "scores = scores.sort_values(by='Scores', ascending=False)\n",
    "print(\"Multivariate Filter (Relief)\")\n",
    "print(scores)"
   ]
  },
  {
   "cell_type": "markdown",
   "metadata": {},
   "source": [
    "### 3.1.3 Wrapper (RFE)"
   ]
  },
  {
   "cell_type": "code",
   "execution_count": 14,
   "metadata": {
    "ExecuteTime": {
     "end_time": "2020-12-26T09:47:00.803791Z",
     "start_time": "2020-12-26T09:44:22.034566Z"
    },
    "scrolled": false
   },
   "outputs": [
    {
     "name": "stdout",
     "output_type": "stream",
     "text": [
      "Optimal number of features : 18\n"
     ]
    },
    {
     "data": {
      "image/png": "[encoded data removed]",
      "text/plain": [
       "<Figure size 432x288 with 1 Axes>"
      ]
     },
     "metadata": {
      "needs_background": "light"
     },
     "output_type": "display_data"
    },
    {
     "name": "stdout",
     "output_type": "stream",
     "text": [
      "Multivariate Wrapper (RFE)\n",
      "                    ROC AUC\n",
      "sobel_h            0.630460\n",
      "inter_16x16_parts  0.612348\n",
      "mean               0.604909\n",
      "quality            0.597827\n",
      "sub_mean_3         0.597774\n",
      "block_movement_h   0.591288\n",
      "var_sub_blocks     0.587175\n",
      "cost_1             0.577100\n",
      "inter_4x4_parts    0.564036\n",
      "sub_mean_2         0.560311\n",
      "sobel_v            0.553320\n",
      "variance           0.538877\n",
      "var_movement_v     0.535431\n",
      "intra_parts        0.533357\n",
      "sub_mean_1         0.531813\n",
      "sub_mean_4         0.525482\n",
      "movement_level     0.523266\n",
      "block_movement_v   0.522872\n",
      "skip_parts         0.513356\n",
      "cost_2             0.507974\n",
      "inter_other_parts  0.502147\n",
      "var_movement_h     0.471465\n",
      "frame_width        0.467733\n",
      "non_zero_pixels    0.460194\n",
      "frame_height       0.431595\n",
      "bits               0.396167\n"
     ]
    }
   ],
   "source": [
    "#rfe\n",
    "rfecv = RFECV(estimator=SVC(kernel='linear',random_state=0), step=1, cv=5,\n",
    "              scoring='roc_auc')\n",
    "rfecv.fit(X, np.ravel(y))\n",
    "\n",
    "print(\"Optimal number of features : %d\" % rfecv.n_features_)\n",
    "\n",
    "# Plot number of features VS. cross-validation scores\n",
    "plt.figure()\n",
    "plt.xlabel(\"Number of features selected\")\n",
    "plt.ylabel(\"Cross validation score (nb of correct classifications)\")\n",
    "plt.plot(range(1, len(rfecv.grid_scores_) + 1), rfecv.grid_scores_)\n",
    "plt.show()\n",
    "\n",
    "scores = pd.DataFrame(data=rfecv.grid_scores_,index=X.columns, columns=['ROC AUC'])\n",
    "scores = scores.sort_values(by='ROC AUC', ascending=False)\n",
    "print(\"Multivariate Wrapper (RFE)\")\n",
    "print(scores)"
   ]
  },
  {
   "cell_type": "markdown",
   "metadata": {},
   "source": [
    "# 4. Model learning"
   ]
  },
  {
   "cell_type": "code",
   "execution_count": 8,
   "metadata": {
    "ExecuteTime": {
     "end_time": "2020-12-26T09:36:22.295125Z",
     "start_time": "2020-12-26T09:36:22.291116Z"
    },
    "code_folding": [
     1
    ]
   },
   "outputs": [],
   "source": [
    "kf = StratifiedKFold(n_splits=5, random_state=0, shuffle=True)\n",
    "def showResults(model, X, y):\n",
    "    results = cross_validate(model, X, y, scoring = ['accuracy', 'f1_weighted', 'precision_weighted', 'recall_weighted', 'roc_auc'], cv = kf)\n",
    "    print(str(model.__class__.__name__) + \":\")\n",
    "    print('\\t- Accuracy: \\t' + str(results['test_accuracy'].mean()))\n",
    "    print('\\t- Precision: \\t' + str(results['test_precision_weighted'].mean()))\n",
    "    print('\\t- Recall: \\t' + str(results['test_recall_weighted'].mean()))\n",
    "    print('\\t- F1: \\t\\t' + str(results['test_f1_weighted'].mean()))\n",
    "    print('\\t- ROC_AUC: \\t' + str(results['test_roc_auc'].mean()))"
   ]
  },
  {
   "cell_type": "markdown",
   "metadata": {},
   "source": [
    "## 4.1 SVM"
   ]
  },
  {
   "cell_type": "code",
   "execution_count": 15,
   "metadata": {
    "ExecuteTime": {
     "end_time": "2020-12-24T11:43:06.866561Z",
     "start_time": "2020-12-24T11:42:01.465621Z"
    }
   },
   "outputs": [
    {
     "data": {
      "text/plain": [
       "{'C': 1, 'gamma': 'scale', 'kernel': 'rbf'}"
      ]
     },
     "execution_count": 15,
     "metadata": {},
     "output_type": "execute_result"
    }
   ],
   "source": [
    "param_grid = {\n",
    "    'kernel': ['rbf'],\n",
    "    'gamma': ['scale', 'auto'],\n",
    "    'C': [0.1, 1],\n",
    "}\n",
    "grid_search = GridSearchCV(SVC(random_state=0), param_grid, cv=kf)\n",
    "grid_search.fit(X, np.ravel(y))\n",
    "grid_search.best_params_"
   ]
  },
  {
   "cell_type": "code",
   "execution_count": 14,
   "metadata": {
    "ExecuteTime": {
     "end_time": "2020-12-24T11:41:33.065235Z",
     "start_time": "2020-12-24T11:40:52.041277Z"
    }
   },
   "outputs": [
    {
     "data": {
      "text/plain": [
       "{'C': 1, 'gamma': 'scale', 'kernel': 'rbf'}"
      ]
     },
     "execution_count": 14,
     "metadata": {},
     "output_type": "execute_result"
    }
   ],
   "source": [
    "param_grid = {\n",
    "    'kernel': ['rbf'],\n",
    "    'gamma': ['scale', 'auto'],\n",
    "    'C': [0.1, 1],\n",
    "}\n",
    "grid_search = GridSearchCV(SVC(random_state=0), param_grid, cv=kf)\n",
    "grid_search.fit(X_resample, np.ravel(y_resample))\n",
    "grid_search.best_params_"
   ]
  },
  {
   "cell_type": "code",
   "execution_count": 12,
   "metadata": {
    "ExecuteTime": {
     "end_time": "2020-12-25T10:23:00.595502Z",
     "start_time": "2020-12-25T10:22:30.404763Z"
    },
    "scrolled": true
   },
   "outputs": [
    {
     "name": "stderr",
     "output_type": "stream",
     "text": [
      "C:\\Anaconda3\\lib\\site-packages\\sklearn\\metrics\\_classification.py:1272: UndefinedMetricWarning: Precision is ill-defined and being set to 0.0 in labels with no predicted samples. Use `zero_division` parameter to control this behavior.\n",
      "  _warn_prf(average, modifier, msg_start, len(result))\n"
     ]
    },
    {
     "name": "stdout",
     "output_type": "stream",
     "text": [
      "SVC:\n",
      "\t- Accuracy: \t0.8235738164711826\n",
      "\t- Precision: \t0.7593949049915073\n",
      "\t- Recall: \t0.8235738164711826\n",
      "\t- F1: \t\t0.7618511677232875\n",
      "\t- ROC_AUC: \t0.7190430143284219\n",
      "None\n",
      "SVC:\n",
      "\t- Accuracy: \t0.8796148758953306\n",
      "\t- Precision: \t0.8796701184162947\n",
      "\t- Recall: \t0.8796148758953306\n",
      "\t- F1: \t\t0.8791924319512324\n",
      "\t- ROC_AUC: \t0.9430002541302602\n",
      "None\n"
     ]
    }
   ],
   "source": [
    "print(showResults(SVC(random_state=0), X, np.ravel(y)))\n",
    "print(showResults(SVC(random_state=0), X_resample, np.ravel(y_resample)))"
   ]
  },
  {
   "cell_type": "markdown",
   "metadata": {},
   "source": [
    "## 4.2 Naive Bayes"
   ]
  },
  {
   "cell_type": "code",
   "execution_count": 16,
   "metadata": {
    "ExecuteTime": {
     "end_time": "2020-12-24T11:43:30.292612Z",
     "start_time": "2020-12-24T11:43:30.166584Z"
    }
   },
   "outputs": [
    {
     "name": "stdout",
     "output_type": "stream",
     "text": [
      "GaussianNB:\n",
      "\t- Accuracy: \t0.5213878747361607\n",
      "\t- Precision: \t0.8145537107155982\n",
      "\t- Recall: \t0.5213878747361607\n",
      "\t- F1: \t\t0.5677043667433205\n",
      "\t- ROC_AUC: \t0.7425238484987239\n",
      "None\n",
      "GaussianNB:\n",
      "\t- Accuracy: \t0.7147063273783507\n",
      "\t- Precision: \t0.7681860642458671\n",
      "\t- Recall: \t0.7147063273783507\n",
      "\t- F1: \t\t0.7107623620735444\n",
      "\t- ROC_AUC: \t0.8489175702096302\n",
      "None\n"
     ]
    }
   ],
   "source": [
    "print(showResults(GaussianNB(), X, np.ravel(y)))\n",
    "print(showResults(GaussianNB(), X_resample, np.ravel(y_resample)))"
   ]
  },
  {
   "cell_type": "markdown",
   "metadata": {},
   "source": [
    "## 4.3 Decision Tree"
   ]
  },
  {
   "cell_type": "code",
   "execution_count": 22,
   "metadata": {
    "ExecuteTime": {
     "end_time": "2020-12-24T11:47:43.543159Z",
     "start_time": "2020-12-24T11:47:35.295317Z"
    }
   },
   "outputs": [
    {
     "data": {
      "text/plain": [
       "{'criterion': 'entropy', 'max_depth': 5}"
      ]
     },
     "execution_count": 22,
     "metadata": {},
     "output_type": "execute_result"
    }
   ],
   "source": [
    "param_grid = { \n",
    "    'max_depth' :[5,6,7,8,9,10],\n",
    "    'criterion' :['gini','entropy'],\n",
    "}\n",
    "grid_search = GridSearchCV(DecisionTreeClassifier(random_state = 0, splitter='best'), param_grid, cv=kf)\n",
    "grid_search.fit(X, np.ravel(y))\n",
    "grid_search.best_params_"
   ]
  },
  {
   "cell_type": "code",
   "execution_count": 23,
   "metadata": {
    "ExecuteTime": {
     "end_time": "2020-12-24T11:47:50.455703Z",
     "start_time": "2020-12-24T11:47:43.597162Z"
    }
   },
   "outputs": [
    {
     "data": {
      "text/plain": [
       "{'criterion': 'gini', 'max_depth': 10}"
      ]
     },
     "execution_count": 23,
     "metadata": {},
     "output_type": "execute_result"
    }
   ],
   "source": [
    "param_grid = { \n",
    "    'max_depth' :[5,6,7,8,9,10],\n",
    "    'criterion' :['gini','entropy'],\n",
    "}\n",
    "grid_search = GridSearchCV(DecisionTreeClassifier(random_state = 0, splitter='best'), param_grid, cv=kf)\n",
    "grid_search.fit(X_resample, np.ravel(y_resample))\n",
    "grid_search.best_params_"
   ]
  },
  {
   "cell_type": "code",
   "execution_count": 26,
   "metadata": {
    "ExecuteTime": {
     "end_time": "2020-12-24T11:48:17.758553Z",
     "start_time": "2020-12-24T11:48:16.572288Z"
    }
   },
   "outputs": [
    {
     "name": "stdout",
     "output_type": "stream",
     "text": [
      "DecisionTreeClassifier:\n",
      "\t- Accuracy: \t0.8270181464972788\n",
      "\t- Precision: \t0.7900848182175991\n",
      "\t- Recall: \t0.8270181464972788\n",
      "\t- F1: \t\t0.7853985213371192\n",
      "\t- ROC_AUC: \t0.771004853520588\n",
      "None\n",
      "DecisionTreeClassifier:\n",
      "\t- Accuracy: \t0.8710817905918514\n",
      "\t- Precision: \t0.8718339806484734\n",
      "\t- Recall: \t0.8710817905918514\n",
      "\t- F1: \t\t0.8712068639474986\n",
      "\t- ROC_AUC: \t0.9077701667117009\n",
      "None\n"
     ]
    }
   ],
   "source": [
    "print(showResults(DecisionTreeClassifier(random_state = 0, splitter='best', max_depth=5, criterion='entropy'), X, np.ravel(y)))\n",
    "print(showResults(DecisionTreeClassifier(random_state = 0, splitter='best', max_depth=10, criterion='gini'), X_resample, np.ravel(y_resample)))"
   ]
  },
  {
   "cell_type": "markdown",
   "metadata": {},
   "source": [
    "## 4.4 Random Forest"
   ]
  },
  {
   "cell_type": "code",
   "execution_count": 31,
   "metadata": {
    "ExecuteTime": {
     "end_time": "2020-12-24T11:55:27.088723Z",
     "start_time": "2020-12-24T11:50:51.393394Z"
    }
   },
   "outputs": [
    {
     "data": {
      "text/plain": [
       "{'criterion': 'gini', 'max_depth': 10, 'n_estimators': 100}"
      ]
     },
     "execution_count": 31,
     "metadata": {},
     "output_type": "execute_result"
    }
   ],
   "source": [
    "param_grid = { \n",
    "    'n_estimators' :[25,50,75,100],\n",
    "    'max_depth' :[5,6,7,8,9,10],\n",
    "    'criterion' :['gini','entropy'],\n",
    "}\n",
    "grid_search = GridSearchCV(RandomForestClassifier(random_state = 0), param_grid, cv=kf)\n",
    "grid_search.fit(X, np.ravel(y))\n",
    "grid_search.best_params_"
   ]
  },
  {
   "cell_type": "code",
   "execution_count": 32,
   "metadata": {
    "ExecuteTime": {
     "end_time": "2020-12-24T11:59:20.176435Z",
     "start_time": "2020-12-24T11:55:27.142726Z"
    }
   },
   "outputs": [
    {
     "data": {
      "text/plain": [
       "{'criterion': 'gini', 'max_depth': 10, 'n_estimators': 100}"
      ]
     },
     "execution_count": 32,
     "metadata": {},
     "output_type": "execute_result"
    }
   ],
   "source": [
    "param_grid = { \n",
    "    'n_estimators' :[25,50,75,100],\n",
    "    'max_depth' :[5,6,7,8,9,10],\n",
    "    'criterion' :['gini','entropy'],\n",
    "}\n",
    "grid_search = GridSearchCV(RandomForestClassifier(random_state = 0), param_grid, cv=kf)\n",
    "grid_search.fit(X_resample, np.ravel(y_resample))\n",
    "grid_search.best_params_"
   ]
  },
  {
   "cell_type": "code",
   "execution_count": 33,
   "metadata": {
    "ExecuteTime": {
     "end_time": "2020-12-24T12:00:03.248718Z",
     "start_time": "2020-12-24T11:59:44.477499Z"
    }
   },
   "outputs": [
    {
     "name": "stdout",
     "output_type": "stream",
     "text": [
      "RandomForestClassifier:\n",
      "\t- Accuracy: \t0.8317151580604175\n",
      "\t- Precision: \t0.8002639316767894\n",
      "\t- Recall: \t0.8317151580604175\n",
      "\t- F1: \t\t0.7907082281185831\n",
      "\t- ROC_AUC: \t0.7997107681571209\n",
      "None\n",
      "RandomForestClassifier:\n",
      "\t- Accuracy: \t0.90079062524159\n",
      "\t- Precision: \t0.9007374478095848\n",
      "\t- Recall: \t0.90079062524159\n",
      "\t- F1: \t\t0.9007370819898426\n",
      "\t- ROC_AUC: \t0.9652396769527736\n",
      "None\n"
     ]
    }
   ],
   "source": [
    "print(showResults(RandomForestClassifier(random_state=0, max_depth=10, criterion='gini'), X, np.ravel(y)))\n",
    "print(showResults(RandomForestClassifier(random_state=0, max_depth=10, criterion='gini'), X_resample, np.ravel(y_resample)))"
   ]
  },
  {
   "cell_type": "markdown",
   "metadata": {},
   "source": [
    "## 4.5 AdaBoost"
   ]
  },
  {
   "cell_type": "code",
   "execution_count": null,
   "metadata": {},
   "outputs": [],
   "source": []
  },
  {
   "cell_type": "code",
   "execution_count": null,
   "metadata": {},
   "outputs": [],
   "source": []
  },
  {
   "cell_type": "code",
   "execution_count": 20,
   "metadata": {
    "ExecuteTime": {
     "end_time": "2020-12-24T11:46:03.189476Z",
     "start_time": "2020-12-24T11:45:53.347278Z"
    }
   },
   "outputs": [
    {
     "name": "stdout",
     "output_type": "stream",
     "text": [
      "AdaBoostClassifier:\n",
      "\t- Accuracy: \t0.8252645453099602\n",
      "\t- Precision: \t0.7845735914122243\n",
      "\t- Recall: \t0.8252645453099602\n",
      "\t- F1: \t\t0.7787277876394694\n",
      "\t- ROC_AUC: \t0.777448910765021\n",
      "None\n",
      "AdaBoostClassifier:\n",
      "\t- Accuracy: \t0.8708501650407253\n",
      "\t- Precision: \t0.8710704749676255\n",
      "\t- Recall: \t0.8708501650407253\n",
      "\t- F1: \t\t0.8709134964427794\n",
      "\t- ROC_AUC: \t0.9421338636694498\n",
      "None\n"
     ]
    }
   ],
   "source": [
    "print(showResults(AdaBoostClassifier(random_state=0), X, np.ravel(y)))\n",
    "print(showResults(AdaBoostClassifier(random_state=0), X_resample, np.ravel(y_resample)))"
   ]
  }
 ],
 "metadata": {
  "kernelspec": {
   "display_name": "Python 3",
   "language": "python",
   "name": "python3"
  },
  "language_info": {
   "codemirror_mode": {
    "name": "ipython",
    "version": 3
   },
   "file_extension": ".py",
   "mimetype": "text/x-python",
   "name": "python",
   "nbconvert_exporter": "python",
   "pygments_lexer": "ipython3",
   "version": "3.7.4"
  },
  "varInspector": {
   "cols": {
    "lenName": 16,
    "lenType": 16,
    "lenVar": 40
   },
   "kernels_config": {
    "python": {
     "delete_cmd_postfix": "",
     "delete_cmd_prefix": "del ",
     "library": "var_list.py",
     "varRefreshCmd": "print(var_dic_list())"
    },
    "r": {
     "delete_cmd_postfix": ") ",
     "delete_cmd_prefix": "rm(",
     "library": "var_list.r",
     "varRefreshCmd": "cat(var_dic_list()) "
    }
   },
   "types_to_exclude": [
    "module",
    "function",
    "builtin_function_or_method",
    "instance",
    "_Feature"
   ],
   "window_display": false
  }
 },
 "nbformat": 4,
 "nbformat_minor": 4
}
